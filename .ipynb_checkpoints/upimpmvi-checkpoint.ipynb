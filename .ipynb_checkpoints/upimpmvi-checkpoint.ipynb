{
 "cells": [
  {
   "cell_type": "markdown",
   "metadata": {
    "description": "",
    "license": "",
    "mentor_academy_cell_type": "question_description",
    "name": "upimpmvi",
    "partlist_id": "kpbkazkc",
    "publish_status": "unpublished",
    "question_id": "upimpmvi",
    "type": "prologue"
   },
   "source": [
    "# Question \n",
    " This cell describes the question in markdown format. A good question description provides a high level overview of the goals of the assignment in general terms, and shouldn’t be overly long.\n"
   ]
  },
  {
   "cell_type": "code",
   "execution_count": 1,
   "metadata": {
    "mentor_academy_cell_type": "question_code",
    "question_id": "upimpmvi",
    "type": "stub"
   },
   "outputs": [],
   "source": [
    "import re"
   ]
  },
  {
   "cell_type": "markdown",
   "metadata": {
    "mentor_academy_cell_type": "part_description",
    "part_id": "qqxflvzh",
    "part_order": 1,
    "type": "stub"
   },
   "source": [
    "### Part 1: names\n",
    "\n",
    "Find a list of all of the names in the following string using regex."
   ]
  },
  {
   "cell_type": "markdown",
   "metadata": {
    "hint_id": "iyvqeowt",
    "mentor_academy_cell_type": "hint",
    "part_id": "qqxflvzh"
   },
   "source": [
    "Hint1.1: How do you find one or more of particular tokens? Use `+`"
   ]
  },
  {
   "cell_type": "markdown",
   "metadata": {
    "hint_id": "gmbuitzu",
    "mentor_academy_cell_type": "hint",
    "part_id": "qqxflvzh"
   },
   "source": [
    "Hint1.2: How do you generate a list of matched chunks? You can use `findall(pattern, data)` for that.\n"
   ]
  },
  {
   "cell_type": "code",
   "execution_count": null,
   "metadata": {
    "mentor_academy_cell_type": "part_student_solution_code",
    "part_id": "qqxflvzh",
    "part_order": 1,
    "type": "stub"
   },
   "outputs": [],
   "source": [
    "def names():\n",
    "    simple_string = \"\"\"Amy is 5 years old, and her sister Mary is 2 years old.\n",
    "            Ruth and Peter, their parents, have 3 kids.\"\"\"\n",
    "    \n",
    "    ### BEGIN SOLUTION"
   ]
  },
  {
   "cell_type": "code",
   "execution_count": 5,
   "metadata": {
    "mentor_academy_cell_type": "part_sample_solution_code",
    "part_id": "qqxflvzh",
    "part_order": 1,
    "solution": "True",
    "type": "stub"
   },
   "outputs": [],
   "source": [
    "def names_sample_solution():\n",
    "    simple_string = \"\"\"Amy is 5 years old, and her sister Mary is 2 years old.\n",
    "            Ruth and Peter, their parents, have 3 kids.\"\"\"\n",
    "    \n",
    "    ### BEGIN SOLUTION\n",
    "    pattern = r'[A-Z][a-z]+'\n",
    "    # Alternative answers:\n",
    "        # pattern = r'[A-Z]\\w+'\n",
    "        # pattern = r'[A-Z]\\S+'\n",
    "    match = re.findall(pattern, simple_string) \n",
    "    return match\n",
    "    ### END SOLUTION"
   ]
  },
  {
   "cell_type": "markdown",
   "metadata": {
    "mentor_academy_cell_type": "part_description",
    "part_id": "byjcdolk",
    "part_order": 2,
    "type": "stub"
   },
   "source": [
    "### Part 2: grades\n",
    "The dataset file in grades.txt contains a line separated list of people with their grade in a class. Create a regex to generate a list of just those students who received a B in the course."
   ]
  },
  {
   "cell_type": "markdown",
   "metadata": {
    "hint_id": "akgjsryb",
    "mentor_academy_cell_type": "hint",
    "part_id": "byjcdolk"
   },
   "source": [
    "Hint2.1: How do you include both spaces and words? Use both `\\w` and `\\s`"
   ]
  },
  {
   "cell_type": "markdown",
   "metadata": {
    "hint_id": "pznaurce",
    "mentor_academy_cell_type": "hint",
    "part_id": "byjcdolk"
   },
   "source": [
    "Hint2.2: What is look ahead in RegEx and how do you use it? If you want to find A in front of B, the way how you write a look ahead regex is `r'A(?=B)'`"
   ]
  },
  {
   "cell_type": "code",
   "execution_count": 6,
   "metadata": {
    "mentor_academy_cell_type": "part_student_solution_code",
    "part_id": "byjcdolk",
    "part_order": 2,
    "type": "stub"
   },
   "outputs": [],
   "source": [
    "def grades():\n",
    "    with open (\"grades.txt\", \"r\") as file:\n",
    "        grades = file.read()\n",
    "        \n",
    "    ### BEGIN SOLUTION"
   ]
  },
  {
   "cell_type": "code",
   "execution_count": 7,
   "metadata": {
    "mentor_academy_cell_type": "part_sample_solution_code",
    "part_id": "byjcdolk",
    "part_order": 2,
    "solution": "True",
    "type": "stub"
   },
   "outputs": [],
   "source": [
    "def grades_sample_solution():\n",
    "    with open (\"grades.txt\", \"r\") as file:\n",
    "        grades = file.read()\n",
    "        \n",
    "    ### BEGIN SOLUTION    \n",
    "    pattern = re.compile(r'\\w+\\s\\w+(?=: B)') \n",
    "    # alternative answer:\n",
    "        # pattern = \"\"\"(?P<test>\\w+\\s+\\w+): B\"\"\"\n",
    "    matches = re.findall(pattern,grades) \n",
    "    return matches  \n",
    "    ### END SOLUTION"
   ]
  },
  {
   "cell_type": "markdown",
   "metadata": {
    "mentor_academy_cell_type": "part_description",
    "part_id": "cxrcjxus",
    "part_order": 3,
    "type": "stub"
   },
   "source": [
    "### Part 3: logs\n",
    "Consider the standard web log file in logdata.txt. This file records the access a user makes when visiting a web page (like this one!). Each line of the log has the following items: * a host (e.g., ‘146.204.224.152’) * a user (e.g., ‘feest6811’) * the time a request was made (e.g., ‘21/Jun/2019:15:45:24 -0700’) * the post request type (e.g., ‘POST /incentivize HTTP/1.1’)\n",
    "Your task is to convert this into a list of dictionaries, where each dictionary looks like the following:\n",
    "\n",
    "```\n",
    "example_dict = {\"host\":\"146.204.224.152\",\n",
    "                \"user\":\"feest6811\",\n",
    "                \"time\":\"21/Jun/2019:15:45:24 -0700\",\n",
    "                \"request\":\"POST /incentivize HTTP/1.1\"}\n",
    "```\n"
   ]
  },
  {
   "cell_type": "markdown",
   "metadata": {
    "hint_id": "ypfzajqy",
    "mentor_academy_cell_type": "hint",
    "part_id": "cxrcjxus"
   },
   "source": [
    "Hint3.1: How do you ignore paricular tokens using RegEx look-ahead? Suppose you have string 'AB'. In this case, you can include only 'B' as a pattern while ignoring 'A'. You can use a regex pattern such as `A(?P<test>B)`. "
   ]
  },
  {
   "cell_type": "markdown",
   "metadata": {
    "hint_id": "icdewear",
    "mentor_academy_cell_type": "hint",
    "part_id": "cxrcjxus"
   },
   "source": [
    "Hint3.2: How do you use write a long regex with comments and linebreaks? We can use `re.VERBOSE`."
   ]
  },
  {
   "cell_type": "code",
   "execution_count": null,
   "metadata": {
    "mentor_academy_cell_type": "part_student_solution_code",
    "part_id": "cxrcjxus",
    "part_order": 3,
    "type": "stub"
   },
   "outputs": [],
   "source": [
    "def logs():\n",
    "    with open(\"datasets/logdata.txt\", \"r\") as file: logdata = file.read()\n",
    "        \n",
    "    ### BEGIN SOLUTION\n",
    "    "
   ]
  },
  {
   "cell_type": "code",
   "execution_count": null,
   "metadata": {
    "mentor_academy_cell_type": "part_sample_solution_code",
    "part_id": "cxrcjxus",
    "part_order": 3,
    "solution": "True",
    "type": "stub"
   },
   "outputs": [],
   "source": [
    "def logs_sample_solution():\n",
    "    with open(\"datasets/logdata.txt\", \"r\") as file: \n",
    "        logdata = file.read()\n",
    "        \n",
    "    ### BEGIN SOLUTION\n",
    "    pattern = \"\"\"\n",
    "        (?P<host>[\\w\\.]+)          # host %h\n",
    "        \\s\\-\\s(?P<user_name>.*)\\s  # user %u\n",
    "        \\[(?P<time>.+)\\]           # time %t\n",
    "        \\s\\\"(?P<request>.*)\\\"      # request %r\n",
    "    \"\"\"\n",
    "    result = [item.groupdict() for item in re.finditer(pattern,logdata,re.VERBOSE)]    \n",
    "    ### END SOLUTION"
   ]
  }
 ],
 "metadata": {
  "anaconda-cloud": {},
  "coursera": {
   "course_slug": "python-data-analysis",
   "graded_item_id": "tHmgx",
   "launcher_item_id": "Um6Bz",
   "part_id": "OQsnr"
  },
  "kernelspec": {
   "display_name": "Python 3",
   "language": "python",
   "name": "python3"
  },
  "language_info": {
   "codemirror_mode": {
    "name": "ipython",
    "version": 3
   },
   "file_extension": ".py",
   "mimetype": "text/x-python",
   "name": "python",
   "nbconvert_exporter": "python",
   "pygments_lexer": "ipython3",
   "version": "3.7.3"
  },
  "umich": {
   "id": "Assignment 2",
   "version": "1.2"
  }
 },
 "nbformat": 4,
 "nbformat_minor": 1
}
