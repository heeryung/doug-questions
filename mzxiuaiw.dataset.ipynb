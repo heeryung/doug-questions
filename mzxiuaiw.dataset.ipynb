{
 "cells": [
  {
   "cell_type": "markdown",
   "metadata": {
    "attribution": "",
    "author": "localhost",
    "dataset_id": "mzxiuaiw",
    "description": "",
    "license": "",
    "mentor_academy_cell_type": "dataset_description",
    "name": "mzxiuaiw",
    "publish": null,
    "source_url": "",
    "type": "prologue"
   },
   "source": [
    "grade dataset for doug"
   ]
  },
  {
   "cell_type": "code",
   "execution_count": 2,
   "metadata": {
    "dataset_id": "mzxiuaiw",
    "mentor_academy_cell_type": "dataset_code",
    "type": "stub"
   },
   "outputs": [
    {
     "name": "stdout",
     "output_type": "stream",
     "text": [
      "<http.client.HTTPResponse object at 0x103770400>\n"
     ]
    }
   ],
   "source": [
    "from urllib.request import urlopen\n",
    "\n",
    "grade_link = \"https://drive.google.com/file/d/1m7GrVd3jBsIJbBdYSIvu6PTEGiaXgbYi/view?usp=sharing\"\n",
    "df = urlopen(grade_link)\n",
    "print (df)\n",
    "\n",
    "#with open (grade_link, \"r\") as file:\n",
    "#        grades = file.read()"
   ]
  },
  {
   "cell_type": "code",
   "execution_count": null,
   "metadata": {
    "cell_type": "temp",
    "mentor_academy_cell_type": "temporary"
   },
   "outputs": [],
   "source": [
    "temporary code, will not be stored in database when submitted"
   ]
  }
 ],
 "metadata": {
  "anaconda-cloud": {},
  "coursera": {
   "course_slug": "python-data-analysis",
   "graded_item_id": "tHmgx",
   "launcher_item_id": "Um6Bz",
   "part_id": "OQsnr"
  },
  "kernelspec": {
   "display_name": "Python 3",
   "language": "python",
   "name": "python3"
  },
  "language_info": {
   "codemirror_mode": {
    "name": "ipython",
    "version": 3
   },
   "file_extension": ".py",
   "mimetype": "text/x-python",
   "name": "python",
   "nbconvert_exporter": "python",
   "pygments_lexer": "ipython3",
   "version": "3.7.3"
  },
  "umich": {
   "id": "Assignment 2",
   "version": "1.2"
  }
 },
 "nbformat": 4,
 "nbformat_minor": 1
}
